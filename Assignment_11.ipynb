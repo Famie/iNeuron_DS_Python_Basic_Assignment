{
 "cells": [
  {
   "cell_type": "markdown",
   "metadata": {},
   "source": [
    "# Assignment 11"
   ]
  },
  {
   "cell_type": "code",
   "execution_count": 1,
   "metadata": {},
   "outputs": [],
   "source": [
    "#1. Create an assert statement that throws an AssertionError if the variable spam is a negative integer.\n",
    "#assert spam >= 0, 'spam cannot be negative integer'"
   ]
  },
  {
   "cell_type": "code",
   "execution_count": 2,
   "metadata": {},
   "outputs": [],
   "source": [
    "#2. Write an assert statement that triggers an AssertionError if the variables eggs and bacon contain strings \n",
    "#that are the same as each other, even if their cases are different (that is, 'hello' and 'hello' are considered the same, \n",
    "#and 'goodbye' and 'GOODbye' are also considered the same).\n",
    "\n",
    "#assert eggs.lower() != bacon.lower(), 'eggs and bacon contains same value.'"
   ]
  },
  {
   "cell_type": "code",
   "execution_count": 3,
   "metadata": {},
   "outputs": [],
   "source": [
    "#3. Create an assert statement that throws an AssertionError every time.\n",
    "# assert False, 'This assertion will always triggers'"
   ]
  },
  {
   "cell_type": "code",
   "execution_count": 4,
   "metadata": {},
   "outputs": [],
   "source": [
    "#4. What are the two lines that must be present in your software in order to call logging.debug()?\n",
    "#import logging\n",
    "#logging.basicConfig(level=logging.DEBUG, format='%(asctime)s -  %(levelname)s -  %(message)s')"
   ]
  },
  {
   "cell_type": "code",
   "execution_count": 5,
   "metadata": {},
   "outputs": [],
   "source": [
    "#5. What are the two lines that your program must have in order to have logging.debug() \n",
    "#send a logging message to a file named programLog.txt?\n",
    "\n",
    "#import logging\n",
    "\n",
    "#logging.basicConfig(filename='programLog.txt', level=logging.DEBUG, format=' %(asctime)s - %(levelname)s - %(message)s')\n"
   ]
  },
  {
   "cell_type": "code",
   "execution_count": 6,
   "metadata": {},
   "outputs": [],
   "source": [
    "#6. What are the five levels of logging?\n",
    "\n",
    "# DEBUG\n",
    "# INFO\n",
    "# WARNING\n",
    "# ERROR\n",
    "# CRITICAL\n"
   ]
  },
  {
   "cell_type": "code",
   "execution_count": 7,
   "metadata": {},
   "outputs": [],
   "source": [
    "#7. What line of code would you add to your software to disable all logging messages?\n",
    "\n",
    "#logging.disable(logging.CRITICAL)"
   ]
  },
  {
   "cell_type": "code",
   "execution_count": 8,
   "metadata": {},
   "outputs": [],
   "source": [
    "#8.Why is using logging messages better than using print() to display the same message?\n",
    "\n",
    "# Once we are done debugging, we will end up spending a lot of time removing print() calls from your code for each log message. \n",
    "# We might even accidentally remove some print() calls that were being used for nonlog messages. \n",
    "# The nice thing about log messages is that we’re free to fill our program with as many as we like, \n",
    "# and we can always disable them later by adding a single logging.disable(logging.CRITICAL) call. \n",
    "# Unlike print(), the logging module makes it easy to switch between showing and hiding log messages."
   ]
  },
  {
   "cell_type": "code",
   "execution_count": 9,
   "metadata": {},
   "outputs": [],
   "source": [
    "#9. What are the differences between the Step Over, Step In, and Step Out buttons in the debugger?\n",
    "\n",
    "# Step Over - Clicking the Step Over button will execute the next line of code, similar to the Step In button. \n",
    "# However, if the next line of code is a function call, the Step Over button will “step over” the code in the \n",
    "# function. The function’s code will be executed at full speed, and the debugger will pause as soon as the \n",
    "# function call returns.\n",
    "\n",
    "\n",
    "\n",
    "# Step In - Clicking the Step In button will cause the debugger to execute the next line of code and then pause again. \n",
    "# If the next line of code is a function call, the debugger will “step into” that function and jump to the first line \n",
    "# of code of that function.\n",
    "\n",
    "\n",
    "# Step Out - Clicking the Step Out button will cause the debugger to execute lines of code at full speed until it \n",
    "# returns from the current function. If you have stepped into a function call with the Step In button and now simply \n",
    "# want to keep executing instructions until you get back out, click the Out button to “step out” of the current function call.\n",
    "\n"
   ]
  },
  {
   "cell_type": "code",
   "execution_count": 10,
   "metadata": {},
   "outputs": [],
   "source": [
    "#10.After you click Continue, when will the debugger stop ?\n",
    "\n",
    "# Continue will cause the program to execute normally until it terminates or reaches a breakpoint."
   ]
  },
  {
   "cell_type": "code",
   "execution_count": null,
   "metadata": {},
   "outputs": [],
   "source": [
    "#11. What is the concept of a breakpoint?\n",
    "\n",
    "# A breakpoint can be set on a specific line of code and forces the debugger to pause whenever the program execution \n",
    "# reaches that line. "
   ]
  }
 ],
 "metadata": {
  "kernelspec": {
   "display_name": "Python 3",
   "language": "python",
   "name": "python3"
  },
  "language_info": {
   "codemirror_mode": {
    "name": "ipython",
    "version": 3
   },
   "file_extension": ".py",
   "mimetype": "text/x-python",
   "name": "python",
   "nbconvert_exporter": "python",
   "pygments_lexer": "ipython3",
   "version": "3.8.5"
  }
 },
 "nbformat": 4,
 "nbformat_minor": 4
}
