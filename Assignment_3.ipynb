{
 "cells": [
  {
   "cell_type": "markdown",
   "metadata": {},
   "source": [
    "# Assignment 3"
   ]
  },
  {
   "cell_type": "code",
   "execution_count": null,
   "metadata": {},
   "outputs": [],
   "source": [
    "#1. Why are functions advantageous to have in your programs?\n",
    "# It helps to reduce the duplication of code and makes program more readable and maintainable"
   ]
  },
  {
   "cell_type": "code",
   "execution_count": null,
   "metadata": {},
   "outputs": [],
   "source": [
    "#2. When does the code in a function run: when it's specified or when it's called?\n",
    "# Code inside the function runs when function is called."
   ]
  },
  {
   "cell_type": "code",
   "execution_count": null,
   "metadata": {},
   "outputs": [],
   "source": [
    "#3. What statement creates a function?\n",
    "# def statement"
   ]
  },
  {
   "cell_type": "code",
   "execution_count": null,
   "metadata": {},
   "outputs": [],
   "source": [
    "#4. What is the difference between a function and a function call?\n",
    "# function makes the code reuseable and modular so maintainable\n",
    "# function call means calling or invoking the function"
   ]
  },
  {
   "cell_type": "code",
   "execution_count": null,
   "metadata": {},
   "outputs": [],
   "source": [
    "#5. How many global scopes are there in a Python program? How many local scopes?\n",
    "# There will be only one global scope in a Python program and can have as many local scopes \n",
    "# as many functions we have in a program. e.g. If we have two functions in a program then we will have two local scopes."
   ]
  },
  {
   "cell_type": "code",
   "execution_count": null,
   "metadata": {},
   "outputs": [],
   "source": [
    "#6. What happens to variables in a local scope when the function call returns?\n",
    "# When function call returns, variables in a local scope gets destroyed"
   ]
  },
  {
   "cell_type": "code",
   "execution_count": null,
   "metadata": {},
   "outputs": [],
   "source": [
    "#7. What is the concept of a return value? Is it possible to have a return value in an expression?\n",
    "# return value is the value which is returned from the function using \"return\" keyword. \n",
    "# Yes it is possible e.g. we can have \"return (1+2)\"\n"
   ]
  },
  {
   "cell_type": "code",
   "execution_count": null,
   "metadata": {},
   "outputs": [],
   "source": [
    "#8. If a function does not have a return statement, what is the return value of a call to that function?\n",
    "#If a function doesn't specify a return value, it returns None\n"
   ]
  },
  {
   "cell_type": "code",
   "execution_count": 2,
   "metadata": {},
   "outputs": [],
   "source": [
    "#9. How do you make a function variable refer to the global variable?\n",
    "# using global keyword we can refer to global varible\n"
   ]
  },
  {
   "cell_type": "code",
   "execution_count": 3,
   "metadata": {},
   "outputs": [],
   "source": [
    "#10. What is the data type of None?\n",
    "\n",
    "# It is and object. If we excute type(None) statement we get NoneType class."
   ]
  },
  {
   "cell_type": "code",
   "execution_count": 4,
   "metadata": {},
   "outputs": [],
   "source": [
    "#11. What does the sentence import areallyourpetsnamederic do?\n",
    "# It will import module areallyourpetsnamederic.\n"
   ]
  },
  {
   "cell_type": "code",
   "execution_count": 5,
   "metadata": {},
   "outputs": [],
   "source": [
    "#12. If you had a bacon() feature in a spam module, what would you call it after importing spam?\n",
    "# spam.bacon()"
   ]
  },
  {
   "cell_type": "code",
   "execution_count": 6,
   "metadata": {},
   "outputs": [],
   "source": [
    "#13. What can you do to save a programme from crashing if it encounters an error?\n",
    "# Place the line of code that might cause an error in a try clause."
   ]
  },
  {
   "cell_type": "code",
   "execution_count": null,
   "metadata": {},
   "outputs": [],
   "source": [
    "#14. What is the purpose of the try clause? What is the purpose of the except clause?\n",
    "# The code that could potentially cause an error goes in the try clause.\n",
    "# The code that executes if an error happens goes in the except clause."
   ]
  }
 ],
 "metadata": {
  "kernelspec": {
   "display_name": "Python 3",
   "language": "python",
   "name": "python3"
  },
  "language_info": {
   "codemirror_mode": {
    "name": "ipython",
    "version": 3
   },
   "file_extension": ".py",
   "mimetype": "text/x-python",
   "name": "python",
   "nbconvert_exporter": "python",
   "pygments_lexer": "ipython3",
   "version": "3.8.5"
  }
 },
 "nbformat": 4,
 "nbformat_minor": 4
}
