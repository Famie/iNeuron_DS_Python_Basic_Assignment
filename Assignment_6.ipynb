{
 "cells": [
  {
   "cell_type": "markdown",
   "metadata": {},
   "source": [
    "# Assignment 6"
   ]
  },
  {
   "cell_type": "code",
   "execution_count": 1,
   "metadata": {},
   "outputs": [],
   "source": [
    "#1. What are escape characters, and how do you use them?\n",
    "#There are some characters which cannot be used in the string e.g double quote, tab, new line etc. In order to use\n",
    "#these characters in the string we use Escape character. We use the '\\' and character we want to escape with it e.g. \\\\, \\n, \\t"
   ]
  },
  {
   "cell_type": "code",
   "execution_count": 2,
   "metadata": {},
   "outputs": [],
   "source": [
    "#2. What do the escape characters n and t stand for?\n",
    "# escape character 'n' or '\\n' is used for new line\n",
    "# escape character 't' or '\\t' is used for tab"
   ]
  },
  {
   "cell_type": "code",
   "execution_count": 3,
   "metadata": {},
   "outputs": [],
   "source": [
    "#3. What is the way to include backslash characters in a string?\n",
    "# use '\\\\'"
   ]
  },
  {
   "cell_type": "code",
   "execution_count": 4,
   "metadata": {},
   "outputs": [],
   "source": [
    "#4. The string \"Howl's Moving Castle\" is a correct value. Why isn't the single quote character in the word \n",
    "# Howl's not escaped a problem?\n",
    "\n",
    "# Because single quote is used between two double quote \"\""
   ]
  },
  {
   "cell_type": "code",
   "execution_count": 7,
   "metadata": {},
   "outputs": [
    {
     "name": "stdout",
     "output_type": "stream",
     "text": [
      "Test\n",
      "             end of string.\n"
     ]
    }
   ],
   "source": [
    "#5. How do you write a string of newlines if you don't want to use the n character?\n",
    "\n",
    "# Write a string of newline in between three double \"\"\" <string comes> \"\"\"\n",
    "\n",
    "print(\"\"\"Test\n",
    "             end of string.\"\"\")\n",
    "      "
   ]
  },
  {
   "cell_type": "code",
   "execution_count": 13,
   "metadata": {},
   "outputs": [
    {
     "name": "stdout",
     "output_type": "stream",
     "text": [
      "e\n",
      "Hello\n",
      "Hello\n",
      "lo, world!\n"
     ]
    }
   ],
   "source": [
    "#6. What are the values of the given expressions?\n",
    "print('Hello, world!'[1]) # output is 'e'\n",
    "print('Hello, world!'[0:5]) #output is 'Hello'\n",
    "print('Hello, world!'[:5])  #output is 'Hello'\n",
    "print('Hello, world!'[3:])  #output is 'lo, world!'\n"
   ]
  },
  {
   "cell_type": "code",
   "execution_count": 16,
   "metadata": {},
   "outputs": [
    {
     "name": "stdout",
     "output_type": "stream",
     "text": [
      "HELLO\n",
      "True\n",
      "hello\n"
     ]
    }
   ],
   "source": [
    "#7. What are the values of the following expressions?\n",
    "print('Hello'.upper()) # output is 'HELLO'\n",
    "print('Hello'.upper().isupper()) #output is True\n",
    "print('Hello'.upper().lower()) #output is 'hello'\n"
   ]
  },
  {
   "cell_type": "code",
   "execution_count": 20,
   "metadata": {},
   "outputs": [
    {
     "name": "stdout",
     "output_type": "stream",
     "text": [
      "['Remember,', 'remember,', 'the', 'fifth', 'of', 'July.']\n",
      "There-can-only-one.\n"
     ]
    }
   ],
   "source": [
    "#8. What are the values of the following expressions?\n",
    "print('Remember, remember, the fifth of July.'.split())#split() function will split the string using single space and generate list\n",
    "print('-'.join('There can only one.'.split())) # first string will be split using single space and then join back as single string\n",
    "                                               # using -\n"
   ]
  },
  {
   "cell_type": "code",
   "execution_count": 30,
   "metadata": {},
   "outputs": [
    {
     "name": "stdout",
     "output_type": "stream",
     "text": [
      "Hello World!----------------------------\n",
      "----------------------------Hello World!\n",
      "--------------Hello World!--------------\n"
     ]
    }
   ],
   "source": [
    "#9. What are the methods for right-justifying, left-justifying, and centering a string?\n",
    "\n",
    "lstr = \"Hello World!\"\n",
    "print (lstr.ljust(40, '-')) #left-justifying ljust()\n",
    "print (lstr.rjust(40, '-')) #left-justifying rjust()\n",
    "print (lstr.center(40, '-')) #centering center()\n"
   ]
  },
  {
   "cell_type": "code",
   "execution_count": 32,
   "metadata": {},
   "outputs": [
    {
     "name": "stdout",
     "output_type": "stream",
     "text": [
      "Hello World!\n",
      "Hello World!      \n",
      "     Hello World!\n"
     ]
    }
   ],
   "source": [
    "#10. What is the best way to remove whitespace characters from the start or end?\n",
    "str = \"     Hello World!      \"\n",
    "print(str.strip()) # strip() method is used to remove whitespace from start and end\n",
    "print(str.lstrip())# lstrip() method is used to remove whitespace from left\n",
    "print(str.rstrip())# rstrip() method is used to remove whitespace from right\n"
   ]
  },
  {
   "cell_type": "code",
   "execution_count": null,
   "metadata": {},
   "outputs": [],
   "source": []
  }
 ],
 "metadata": {
  "kernelspec": {
   "display_name": "Python 3",
   "language": "python",
   "name": "python3"
  },
  "language_info": {
   "codemirror_mode": {
    "name": "ipython",
    "version": 3
   },
   "file_extension": ".py",
   "mimetype": "text/x-python",
   "name": "python",
   "nbconvert_exporter": "python",
   "pygments_lexer": "ipython3",
   "version": "3.8.5"
  }
 },
 "nbformat": 4,
 "nbformat_minor": 4
}
